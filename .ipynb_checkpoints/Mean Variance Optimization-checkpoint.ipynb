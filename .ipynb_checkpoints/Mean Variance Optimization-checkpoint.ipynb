{
 "cells": [
  {
   "cell_type": "markdown",
   "metadata": {},
   "source": [
    "# Mean Variance Optimization"
   ]
  },
  {
   "cell_type": "markdown",
   "metadata": {},
   "source": [
    "You're an investment analyst at a large fund. You specialize in calculating efficient frontiers and selecting assets for portfolios.\n",
    "\n",
    "In this project, you will do the following:\n",
    "1. Follow the steps to calculate the efficient frontier of a portfolio with five assets.\n",
    "2. See how two additional assets affect the efficient frontier.\n",
    "3. Use the covariance matrix and expected returns from ten assets to select the five assets that produce the best efficient frontier."
   ]
  },
  {
   "cell_type": "markdown",
   "metadata": {},
   "source": [
    "## Calculate the Efficient Frontier of a Portfolio"
   ]
  },
  {
   "cell_type": "markdown",
   "metadata": {},
   "source": [
    "1. Load **stock_data_weak.csv** as a DataFrame and save it to a variable called `stock_data`.\n",
    "\n",
    "   Use `print(stock_data)` to visualize the data."
   ]
  },
  {
   "cell_type": "code",
   "execution_count": 1,
   "metadata": {},
   "outputs": [],
   "source": [
    "import pandas as pd\n",
    "import matplotlib.pyplot as plt\n",
    "import numpy as np\n",
    "\n",
    "# 1. Load the stock data.\n"
   ]
  },
  {
   "cell_type": "markdown",
   "metadata": {},
   "source": [
    "2. Find the quarterly returns over each period for all assets in `stock_data`. Save the result to `returns_quarterly`."
   ]
  },
  {
   "cell_type": "code",
   "execution_count": 2,
   "metadata": {},
   "outputs": [],
   "source": [
    "# 2. Find the quarterly return for each period\n"
   ]
  },
  {
   "cell_type": "markdown",
   "metadata": {},
   "source": [
    "3. Find the expected return for each asset and save the result to `expected_returns`."
   ]
  },
  {
   "cell_type": "code",
   "execution_count": 3,
   "metadata": {},
   "outputs": [],
   "source": [
    "# 3. Find the expected returns\n"
   ]
  },
  {
   "cell_type": "markdown",
   "metadata": {},
   "source": [
    "4. Find the covariance of the quarterly returns over each period and save the result to `cov_quarterly`."
   ]
  },
  {
   "cell_type": "code",
   "execution_count": 4,
   "metadata": {},
   "outputs": [],
   "source": [
    "# 4. Find the covariance\n"
   ]
  },
  {
   "cell_type": "markdown",
   "metadata": {},
   "source": [
    "5. We've provided the function `return_portfolios()` below. The function accepts the expected return and quarterly covariance of a set of asset and returns a random collection of 5,000 portfolios. The return is formatted as a DataFrame with columns: `'Volatility'` and `'Returns'`.\n",
    "\n",
    "   Use the expected returns and covariances to find a set of random portfolios. Save the result to `random_portfolios`."
   ]
  },
  {
   "cell_type": "code",
   "execution_count": 5,
   "metadata": {},
   "outputs": [],
   "source": [
    "def return_portfolios(expected_returns, cov_matrix):\n",
    "    port_returns = []\n",
    "    port_volatility = []\n",
    "    stock_weights = []\n",
    "    \n",
    "    selected = (expected_returns.axes)[0]\n",
    "    \n",
    "    num_assets = len(selected)\n",
    "    num_portfolios = 5000\n",
    "    \n",
    "    for single_portfolio in range(num_portfolios):\n",
    "        weights = np.random.random(num_assets)\n",
    "        weights /= np.sum(weights)\n",
    "        returns = np.dot(weights, expected_returns)\n",
    "        volatility = np.sqrt(np.dot(weights.T, np.dot(cov_matrix, weights)))\n",
    "        port_returns.append(returns)\n",
    "        port_volatility.append(volatility)\n",
    "        stock_weights.append(weights)\n",
    "        \n",
    "    portfolio = {'Returns': port_returns, 'Volatility': port_volatility}\n",
    "    \n",
    "    for counter, symbol in enumerate(selected):\n",
    "        portfolio[symbol + 'Weight'] = [Weight[counter] for Weight in stock_weights]\n",
    "        \n",
    "    df = pd.DataFrame(portfolio)\n",
    "    \n",
    "    column_order = ['Returns', 'Volatility'] + [stock+'Weight' for stock in selected]\n",
    "    \n",
    "    df = df[column_order]\n",
    "    \n",
    "    return df"
   ]
  },
  {
   "cell_type": "code",
   "execution_count": 6,
   "metadata": {},
   "outputs": [],
   "source": [
    "# 5. Find a set of random portfolios\n"
   ]
  },
  {
   "cell_type": "markdown",
   "metadata": {},
   "source": [
    "6. Plot the random portfolios."
   ]
  },
  {
   "cell_type": "code",
   "execution_count": 7,
   "metadata": {},
   "outputs": [],
   "source": [
    "# 6. Plot the set of random porfolios\n"
   ]
  },
  {
   "cell_type": "markdown",
   "metadata": {},
   "source": [
    "7. We've provided the function `optimal_portfolio()` below. This function accepts the quarterly returns of a set of assets. The function returns the `weights`, `returns`, and `risks` of portfolios on the efficient frontiers. The returns are formatted as NumPy arrays.\n",
    "\n",
    "   Use the `optimal_portfolio()` function to calculate the `weights`, `returns`, and `risks` of portfolios on the efficient frontier."
   ]
  },
  {
   "cell_type": "code",
   "execution_count": 8,
   "metadata": {},
   "outputs": [
    {
     "ename": "ModuleNotFoundError",
     "evalue": "No module named 'cvxopt'",
     "output_type": "error",
     "traceback": [
      "\u001b[0;31m---------------------------------------------------------------------------\u001b[0m",
      "\u001b[0;31mModuleNotFoundError\u001b[0m                       Traceback (most recent call last)",
      "\u001b[0;32m<ipython-input-8-1549406c0467>\u001b[0m in \u001b[0;36m<module>\u001b[0;34m\u001b[0m\n\u001b[0;32m----> 1\u001b[0;31m \u001b[0;32mimport\u001b[0m \u001b[0mcvxopt\u001b[0m \u001b[0;32mas\u001b[0m \u001b[0mopt\u001b[0m\u001b[0;34m\u001b[0m\u001b[0;34m\u001b[0m\u001b[0m\n\u001b[0m\u001b[1;32m      2\u001b[0m \u001b[0;32mfrom\u001b[0m \u001b[0mcvxopt\u001b[0m \u001b[0;32mimport\u001b[0m \u001b[0mblas\u001b[0m\u001b[0;34m,\u001b[0m \u001b[0msolvers\u001b[0m\u001b[0;34m\u001b[0m\u001b[0;34m\u001b[0m\u001b[0m\n\u001b[1;32m      3\u001b[0m \u001b[0;34m\u001b[0m\u001b[0m\n\u001b[1;32m      4\u001b[0m \u001b[0;32mdef\u001b[0m \u001b[0moptimal_portfolio\u001b[0m\u001b[0;34m(\u001b[0m\u001b[0mreturns\u001b[0m\u001b[0;34m)\u001b[0m\u001b[0;34m:\u001b[0m\u001b[0;34m\u001b[0m\u001b[0;34m\u001b[0m\u001b[0m\n\u001b[1;32m      5\u001b[0m     \u001b[0mn\u001b[0m \u001b[0;34m=\u001b[0m \u001b[0mreturns\u001b[0m\u001b[0;34m.\u001b[0m\u001b[0mshape\u001b[0m\u001b[0;34m[\u001b[0m\u001b[0;36m1\u001b[0m\u001b[0;34m]\u001b[0m\u001b[0;34m\u001b[0m\u001b[0;34m\u001b[0m\u001b[0m\n",
      "\u001b[0;31mModuleNotFoundError\u001b[0m: No module named 'cvxopt'"
     ]
    }
   ],
   "source": [
    "import cvxopt as opt\n",
    "from cvxopt import blas, solvers\n",
    "\n",
    "def optimal_portfolio(returns):\n",
    "    n = returns.shape[1]\n",
    "    returns = np.transpose(returns.values)\n",
    "    \n",
    "    N = 100\n",
    "    mus = [10**(5.0 * t/N - 1.0) for t in range(N)]\n",
    "    \n",
    "    # Convert to cvxopt matrices\n",
    "    S = opt.matrix(np.cov(returns))\n",
    "    pbar = opt.matrix(np.mean(returns, axis=1))\n",
    "    \n",
    "    # Create constraint matrices\n",
    "    G = -opt.matrix(np.eye(n)) # negative n x n identity matrix\n",
    "    h = opt.matrix(0.0, (n,1))\n",
    "    A = opt.matrix(1.0, (1,n))\n",
    "    b = opt.matrix(1.0)\n",
    "    \n",
    "    # Calculate efficient frontier weights using quadratic programming\n",
    "    portfolios = [solvers.qp(mu*S, -pbar, G, h, A, b)['x'] for mu in mus]\n",
    "    ## CALCULATE RISKS AND RETURNS FOR FRONTIER\n",
    "    returns = [blas.dot(pbar, x) for x in portfolios]\n",
    "    risks = [np.sqrt(blas.dot(x, S*x)) for x in portfolios]\n",
    "    ## CALCULATE THE 2ND DEGREE POLYNOMIAL OF THE FRONTIER CURVE\n",
    "    m1 = np.polyfit(returns, risks, 2)\n",
    "    x1 = np.sqrt(m1[2] / m1[0])\n",
    "    # CALCULATE THE OPTIMAL PORTFOLIO\n",
    "    wt = solvers.qp(opt.matrix(x1 * S), -pbar, G, h, A, b)['x']\n",
    "    return np.asarray(wt), returns, risks"
   ]
  },
  {
   "cell_type": "code",
   "execution_count": null,
   "metadata": {},
   "outputs": [],
   "source": [
    "** if you don't have cvxopt installed, uncomment the next line of code.**"
   ]
  },
  {
   "cell_type": "code",
   "execution_count": null,
   "metadata": {},
   "outputs": [],
   "source": [
    "# 7. Calculate the set of portfolios on the EF\n"
   ]
  },
  {
   "cell_type": "markdown",
   "metadata": {},
   "source": [
    "8. Plot the efficient frontier as a yellow line with dots on the plot.\n",
    "\n",
    "   Use the following code to set the x-label, y-label, and title:\n",
    "   \n",
    "   ```py\n",
    "   plt.ylabel('Expected Returns', fontsize=14)\n",
    "   plt.xlabel('Volatility (Std. Deviation)', fontzie=14)\n",
    "   plt.title('Efficient Frontier', fontsize=24)\n",
    "   ```"
   ]
  },
  {
   "cell_type": "code",
   "execution_count": null,
   "metadata": {},
   "outputs": [],
   "source": [
    "# 8. Plot the set of portfolios on the EF\n"
   ]
  },
  {
   "cell_type": "markdown",
   "metadata": {},
   "source": [
    "## How Do Two Additional Assets Affect the EF?"
   ]
  },
  {
   "cell_type": "markdown",
   "metadata": {},
   "source": [
    "9. You inherited a portfolio with five assets, stored in **stock_data_weak.csv**:\n",
    "\n",
    "   Asset | Expected Return\n",
    "   --- | ---\n",
    "   General Electric | -0.0120\n",
    "   Chesapeake Energy | -0.0306\n",
    "   AT&T | -0.0014\n",
    "   Cisco Systems | 0.0184\n",
    "   Campbell Soup | 0.0084\n",
    "\n",
    "   View the output below, which visualizes the efficient frontier for these asstes."
   ]
  },
  {
   "cell_type": "code",
   "execution_count": null,
   "metadata": {},
   "outputs": [],
   "source": [
    "path = 'stock_data_weak.csv'\n",
    "\n",
    "# Load the stock data\n",
    "stock_data = pd.read_csv(path)\n",
    "\n",
    "# Find the quarterly for each period\n",
    "selected = list(stock_data.columns[1:])\n",
    "returns_quarterly = stock_data[selected].pct_change()\n",
    "\n",
    "# Find the expected returns\n",
    "expected_returns = returns_quarterly.mean()\n",
    "\n",
    "# Find the covariance\n",
    "cov_quarterly = returns_quarterly.cov()\n",
    "\n",
    "# Find a set of random portfolios\n",
    "random_portfolios = return_portfolios(expected_returns, cov_quarterly)\n",
    "\n",
    "# Plot the set of random portfolios\n",
    "random_portfolios.plot.scatter(x='Volatility', y='Returns', fontsize=12)\n",
    "\n",
    "# Calculate the set of portfolios on the EF\n",
    "weights, returns, risks = optimal_portfolio(returns_quarterly[1:])\n",
    "\n",
    "# Plot the set of portfolios on the EF\n",
    "plt.plot(risks, returns, 'y-o')\n",
    "plt.ylabel('Expected Returns',fontsize=14)\n",
    "plt.xlabel('Volatility (Std. Deviation)',fontsize=14)\n",
    "plt.title('Efficient Frontier', fontsize=24)\n",
    "\n",
    "# Compare the set of portfolios on the EF\n",
    "single_asset_std=np.sqrt(np.diagonal(cov_quarterly))\n",
    "plt.scatter(single_asset_std,expected_returns,marker='X',color='red',s=200)\n",
    "\n",
    "plt.show()"
   ]
  },
  {
   "cell_type": "markdown",
   "metadata": {},
   "source": [
    "10. You decide to diversify the portfolio with a couple of assets to increase the expected return of portfolios on the efficient frontier.\n",
    "\n",
    "    You choose to add Bank of America and Marvel, so your assets are:\n",
    "    \n",
    "    Asset | Expected Return\n",
    "    --- | ---\n",
    "    General Electric | -0.0120\n",
    "    Chesapeake Energy | -0.0306\n",
    "    AT&T | -0.0014\n",
    "    Cisco Systems | 0.0184\n",
    "    Campbell Soup | 0.0084\n",
    "    Bank of America | 0.0341\n",
    "    Marvel | 0.0369\n",
    "    \n",
    "    Change the `path` variable to **stock_data2.csv** to visualize this new efficient frontier."
   ]
  },
  {
   "cell_type": "code",
   "execution_count": null,
   "metadata": {},
   "outputs": [],
   "source": [
    "# 10. Change the path variable.\n",
    "path = 'stock_data_weak.csv'\n",
    "\n",
    "# Load the stock data\n",
    "stock_data = pd.read_csv(path)\n",
    "\n",
    "# Find the quarterly for each period\n",
    "selected = list(stock_data.columns[1:])\n",
    "returns_quarterly = stock_data[selected].pct_change()\n",
    "\n",
    "# Find the expected returns\n",
    "expected_returns = returns_quarterly.mean()\n",
    "\n",
    "# Find the covariance\n",
    "cov_quarterly = returns_quarterly.cov()\n",
    "\n",
    "# Find a set of random portfolios\n",
    "random_portfolios = return_portfolios(expected_returns, cov_quarterly)\n",
    "\n",
    "# Plot the set of random portfolios\n",
    "random_portfolios.plot.scatter(x='Volatility', y='Returns', fontsize=12)\n",
    "\n",
    "# Calculate the set of portfolios on the EF\n",
    "weights, returns, risks = optimal_portfolio(returns_quarterly[1:])\n",
    "\n",
    "# Plot the set of portfolios on the EF\n",
    "plt.plot(risks, returns, 'y-o')\n",
    "plt.ylabel('Expected Returns',fontsize=14)\n",
    "plt.xlabel('Volatility (Std. Deviation)',fontsize=14)\n",
    "plt.title('Efficient Frontier', fontsize=24)\n",
    "\n",
    "# Compare the set of portfolios on the EF\n",
    "single_asset_std=np.sqrt(np.diagonal(cov_quarterly))\n",
    "plt.scatter(single_asset_std,expected_returns,marker='X',color='red',s=200)\n",
    "\n",
    "plt.show()"
   ]
  },
  {
   "cell_type": "markdown",
   "metadata": {},
   "source": [
    "11. It's hard to visualize how much the efficient frontier improved with these assets. Let's plot the original frontier on the same figure. Use the following code to do this:\n",
    "\n",
    "    ```py\n",
    "    weak_EF = pd.read_csv('weak_risks_returns.csv')\n",
    "    plt.plot(weak_EF['Risks'], weak_EF['Returns'], 'g-o')\n",
    "    ```\n",
    "    \n",
    "    To get a better view of the efficient frontier, you may want to comment out the following line:\n",
    "    \n",
    "    ```py\n",
    "    random_portfolios.plot.scatter(x='Volatility', y='Returns', fontsize=12)\n",
    "    ```\n",
    "    \n",
    "    By adding the two high-return assets, we increased the expected return of portfolios on the efficient frontier."
   ]
  },
  {
   "cell_type": "code",
   "execution_count": null,
   "metadata": {},
   "outputs": [],
   "source": [
    "# 11. Compare to original\n"
   ]
  },
  {
   "cell_type": "markdown",
   "metadata": {},
   "source": [
    "12. If you look at the expected returns of assets in your portfolio, you'll notice that General Electric and Chesapeake Energy have a large negative return (i.e. you expect to lose money).\n",
    "\n",
    "    Asset | Expected Return\n",
    "    --- | ---\n",
    "    General Electric | -0.0120\n",
    "    Chesapeake Energy | -0.0306\n",
    "    AT&T | -0.0014\n",
    "    Cisco Systems | 0.0184\n",
    "    Campbell Soup | 0.0084\n",
    "    Bank of America | 0.0341\n",
    "    Marvel | 0.0369\n",
    "    \n",
    "    This begs the question: do we need these assets in our portfolio? Given their poor expected return, we should only keep them if they are uniquely uncorrelated to the rest of the assets in the portfolio.\n",
    "    \n",
    "    To check the effects of these assets, we calculated the efficient frontier for a portfolio **without** General Electric and Chesapeake Energy. Add the following code to the code block below to visualize this efficient frontier on the same plot.\n",
    "    \n",
    "    ```py\n",
    "    strong_EF = pd.read_csv('strong_risks_returns.csv')\n",
    "    plt.plot(strong_EF['Risks'], strong_EF['Returns'], 'k-x')\n",
    "    ```\n",
    "    \n",
    "    What do you notice when you run the code?"
   ]
  },
  {
   "cell_type": "code",
   "execution_count": null,
   "metadata": {},
   "outputs": [],
   "source": [
    "# 12. Plot Efficient Frontier Without Two Assets\n",
    "plt.plot(risks, returns, 'y-o')\n",
    "plt.ylabel('Expected Returns',fontsize=14)\n",
    "plt.xlabel('Volatility (Std. Deviation)',fontsize=14)\n",
    "plt.title('Efficient Frontier', fontsize=24)\n",
    "weak_EF = pd.read_csv('weak_risks_returns.csv')\n",
    "plt.plot(weak_EF['Risks'], weak_EF['Returns'], 'g-o')\n"
   ]
  },
  {
   "cell_type": "markdown",
   "metadata": {},
   "source": [
    "## Finding the Best Efficient Frontier"
   ]
  },
  {
   "cell_type": "markdown",
   "metadata": {},
   "source": [
    "13. Next, you will use your understanding of expected returns and covariances to inform portfolio decisions. We have asset data for 10 stocks, stored in **stock_data3.csv**.\n",
    "\n",
    "    View the output from the code block below.\n",
    "    \n",
    "    You should see two efficient frontiers. We calculate the better efficient frontier (green dots) using all ten assets. We calculate the other efficient frontier using only five assets from the portfolio.\n",
    "    \n",
    "    Your job is to choose five assets from the following list to create the best efficient frontier.\n",
    "    \n",
    "    ```\n",
    "    ['PFE', 'TGT', 'M', 'VZ', 'JPM', 'MRO', 'KO', 'PG', 'CVS', 'HPQ']\n",
    "    ```\n",
    "    \n",
    "    Use the expected returns and covariance table, and set the `selected` variable equal to a list with five of these assets."
   ]
  },
  {
   "cell_type": "code",
   "execution_count": null,
   "metadata": {},
   "outputs": [],
   "source": [
    "import pandas as pd\n",
    "import matplotlib.pyplot as plt\n",
    "import numpy as np\n",
    "\n",
    "path='stock_data3.csv'\n",
    "\n",
    "# 1. Load the stock data\n",
    "stock_data = pd.read_csv(path)\n",
    "selected = list(stock_data.columns[1:])\n",
    "print(stock_data[selected].pct_change().mean())\n",
    "print(stock_data[selected].pct_change().cov())\n",
    "\n",
    "#stock_names = ['PFE', 'TGT', 'M', 'VZ', 'JPM', 'MRO', 'KO', 'PG', 'CVS', 'HPQ']\n",
    "selected = ['KO', 'HPQ', 'M', 'VZ', 'MRO']\n",
    "\n",
    "# 2. Find the quarterly for each period\n",
    "returns_quarterly = stock_data[selected].pct_change()\n",
    "\n",
    "# 3. Find the expected returns \n",
    "expected_returns = returns_quarterly.mean()\n",
    "\n",
    "# 4. Find the covariance \n",
    "cov_quarterly = returns_quarterly.cov()\n",
    "\n",
    "# 5. Find a set of random portfolios\n",
    "random_portfolios = return_portfolios(expected_returns, cov_quarterly) \n",
    "\n",
    "# 6. Plot the set of random portfolios\n",
    "random_portfolios.plot.scatter(x='Volatility', y='Returns', fontsize=12)\n",
    "\n",
    "# 7. Calculate the set of portfolios on the EF\n",
    "weights, returns, risks = optimal_portfolio(returns_quarterly[1:])\n",
    "\n",
    "# 8. Plot the set of portfolios on the EF\n",
    "plt.plot(risks, returns, 'y-o')\n",
    "plt.ylabel('Expected Returns',fontsize=14)\n",
    "plt.xlabel('Volatility (Std. Deviation)',fontsize=14)\n",
    "plt.title('Efficient Frontier', fontsize=24)\n",
    "\n",
    "#pd.DataFrame({'Risks': risks, 'Returns': returns}).to_csv('all_ten.csv', index=False)\n",
    "\n",
    "# 9. Compare the set of portfolios on the EF\n",
    "single_asset_std=np.sqrt(np.diagonal(cov_quarterly))\n",
    "plt.scatter(single_asset_std,expected_returns,marker='X',color='red',s=200)\n",
    "\n",
    "# All 10\n",
    "all_ten_EF = pd.read_csv('all_ten.csv')\n",
    "plt.plot(all_ten_EF['Risks'], all_ten_EF['Returns'], 'g-o')\n",
    "plt.show()"
   ]
  },
  {
   "cell_type": "code",
   "execution_count": null,
   "metadata": {},
   "outputs": [],
   "source": []
  }
 ],
 "metadata": {
  "kernelspec": {
   "display_name": "Python 3",
   "language": "python",
   "name": "python3"
  },
  "language_info": {
   "codemirror_mode": {
    "name": "ipython",
    "version": 3
   },
   "file_extension": ".py",
   "mimetype": "text/x-python",
   "name": "python",
   "nbconvert_exporter": "python",
   "pygments_lexer": "ipython3",
   "version": "3.8.5"
  }
 },
 "nbformat": 4,
 "nbformat_minor": 5
}
